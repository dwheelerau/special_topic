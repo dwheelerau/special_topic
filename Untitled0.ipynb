{
 "metadata": {
  "name": "",
  "signature": "sha256:3fa84cb361543d454c488d2a359013b345cf75adc3e75e69e4a3f2fd8f39442b"
 },
 "nbformat": 3,
 "nbformat_minor": 0,
 "worksheets": []
}